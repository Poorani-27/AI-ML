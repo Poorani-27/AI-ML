{
  "nbformat": 4,
  "nbformat_minor": 0,
  "metadata": {
    "colab": {
      "provenance": [],
      "authorship_tag": "ABX9TyNYjDS4hE1qn0aeH0xX/2QP",
      "include_colab_link": true
    },
    "kernelspec": {
      "name": "python3",
      "display_name": "Python 3"
    },
    "language_info": {
      "name": "python"
    }
  },
  "cells": [
    {
      "cell_type": "markdown",
      "metadata": {
        "id": "view-in-github",
        "colab_type": "text"
      },
      "source": [
        "<a href=\"https://colab.research.google.com/github/Poorani-27/AI-ML/blob/main/RAG_QA_BOT.ipynb\" target=\"_parent\"><img src=\"https://colab.research.google.com/assets/colab-badge.svg\" alt=\"Open In Colab\"/></a>"
      ]
    },
    {
      "cell_type": "markdown",
      "source": [
        "# **1. Install Required Packages**"
      ],
      "metadata": {
        "id": "FWDxczvmgR9p"
      }
    },
    {
      "cell_type": "code",
      "source": [
        "\n",
        "# Install the required packages\n",
        "!pip install openai pinecone-client\n"
      ],
      "metadata": {
        "id": "31sJYX0egVyD"
      },
      "execution_count": null,
      "outputs": []
    },
    {
      "cell_type": "markdown",
      "source": [
        "# **2. Import Necessary Libraries**"
      ],
      "metadata": {
        "id": "bzAbeUUwgde2"
      }
    },
    {
      "cell_type": "code",
      "source": [
        "# Import necessary libraries\n",
        "import openai\n",
        "import pinecone\n",
        "from pinecone.client import Client\n"
      ],
      "metadata": {
        "id": "izwprHjdgcPC"
      },
      "execution_count": null,
      "outputs": []
    },
    {
      "cell_type": "markdown",
      "source": [
        "# **3. Set Up API Keys**"
      ],
      "metadata": {
        "id": "j_tQ-R4TgjEG"
      }
    },
    {
      "cell_type": "code",
      "source": [
        "# Set up your OpenAI API key\n",
        "openai.api_key = 'your OpenAI API key'"
      ],
      "metadata": {
        "id": "SHGRYil6gneC"
      },
      "execution_count": null,
      "outputs": []
    },
    {
      "cell_type": "code",
      "source": [
        "# Set up your Pinecone API key and client\n",
        "api_key = 'your Pinecone API key'\n",
        "client = Client(api_key=api_key)\n"
      ],
      "metadata": {
        "id": "aFrUa2s-gted"
      },
      "execution_count": null,
      "outputs": []
    },
    {
      "cell_type": "markdown",
      "source": [
        "# **4. Initialize Pinecone Index**\n"
      ],
      "metadata": {
        "id": "8V2Qb6Z-g2TM"
      }
    },
    {
      "cell_type": "code",
      "source": [
        "# Initialize Pinecone index (example index creation, adjust parameters as needed)\n",
        "index_name = 'example-index'\n",
        "client.create_index(name=index_name, dimension=128, metric='cosine')\n",
        "index = client.Index(index_name)\n"
      ],
      "metadata": {
        "id": "kKymrfxLg-E7"
      },
      "execution_count": null,
      "outputs": []
    },
    {
      "cell_type": "markdown",
      "source": [
        "# **5. Insert Sample Data into Pinecone**"
      ],
      "metadata": {
        "id": "xHpnoFrihAWA"
      }
    },
    {
      "cell_type": "code",
      "source": [
        "# Insert sample data into Pinecone (for demonstration purposes)\n",
        "sample_data = [\n",
        "    {'id': '1', 'values': [0.1, 0.2, 0.3, ...], 'metadata': {'document': 'Document text 1'}},\n",
        "    {'id': '2', 'values': [0.4, 0.5, 0.6, ...], 'metadata': {'document': 'Document text 2'}},\n",
        "    # Add more sample data as needed\n",
        "]\n",
        "\n",
        "index.upsert(vectors=sample_data)\n"
      ],
      "metadata": {
        "id": "epML2rZChD5Q"
      },
      "execution_count": null,
      "outputs": []
    },
    {
      "cell_type": "markdown",
      "source": [
        "# **6. Define Query and Generate Response Function**"
      ],
      "metadata": {
        "id": "3kLBuwDGhGAa"
      }
    },
    {
      "cell_type": "code",
      "source": [
        "def query_and_generate_response(question):\n",
        "    # Query Pinecone to retrieve relevant documents\n",
        "    query_vector = [0.1, 0.2, 0.3, ...]  # Example query vector, should be generated based on the question\n",
        "    retrieved_docs = index.query(queries=[query_vector], top_k=5)\n",
        "\n",
        "    # Prepare context for RAG based on retrieved documents\n",
        "    rag_context = \"\\n\".join([doc['metadata']['document'] for doc in retrieved_docs['results'][0]['matches']])\n",
        "\n",
        "    # Generate response using OpenAI's RAG model\n",
        "    response = openai.Completion.create(\n",
        "        engine=\"davinci-codex\",  # RAG model engine\n",
        "        prompt=question,\n",
        "        context=rag_context,\n",
        "        max_tokens=150\n",
        "    )\n",
        "\n",
        "    return response['choices'][0]['text'].strip()\n"
      ],
      "metadata": {
        "id": "_m-DGJPchJtq"
      },
      "execution_count": null,
      "outputs": []
    },
    {
      "cell_type": "markdown",
      "source": [
        "# **7. Test the Function**\n"
      ],
      "metadata": {
        "id": "SKFfh-iOhM0-"
      }
    },
    {
      "cell_type": "code",
      "source": [
        "# Example usage\n",
        "question = \"What is the capital of France?\"\n",
        "answer = query_and_generate_response(question)\n",
        "print(f\"Answer: {answer}\")\n"
      ],
      "metadata": {
        "id": "adepKReNhVZr"
      },
      "execution_count": null,
      "outputs": []
    },
    {
      "cell_type": "markdown",
      "source": [
        "## **Notes**\n",
        "\n",
        "**Sample Data:** The sample data in Pinecone is for demonstration purposes. Replace [0.1, 0.2, 0.3, ...] with actual vectors that represent your documents.\n",
        "\n",
        "**Query Vector:** The query_vector should be generated based on the input question. This typically involves encoding the question into a vector using a pre-trained model (like BERT).\n",
        "\n",
        "**Index Parameters:** Adjust the parameters for create_index (dimension, metric) based on your specific use case and data."
      ],
      "metadata": {
        "id": "ATdnr8Abhbtb"
      }
    }
  ]
}